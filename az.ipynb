{
 "cells": [
  {
   "cell_type": "markdown",
   "id": "48a72edc-10d5-447e-bf59-a42b79b13098",
   "metadata": {},
   "source": [
    "# All the parameters that need to be changed"
   ]
  },
  {
   "cell_type": "code",
   "execution_count": 1,
   "id": "55545525-1a53-4366-88fa-4b4ecc94ecad",
   "metadata": {},
   "outputs": [],
   "source": [
    "# Arizona\n",
    "state_ab = \"az\""
   ]
  },
  {
   "cell_type": "markdown",
   "id": "c3e1bdeb-55c5-4c10-83b5-de352e6d559d",
   "metadata": {
    "tags": []
   },
   "source": [
    "## Data\n",
    "1. Download all the data in directory \"az_data\"\n",
    "2. Eextract them all"
   ]
  },
  {
   "cell_type": "code",
   "execution_count": 2,
   "id": "1cbb32f0-472b-4441-abf2-6af58699cb5f",
   "metadata": {},
   "outputs": [],
   "source": [
    "data_folder = state_ab + \"_data/\"\n",
    "population1_data = \"./{}{}_pl2020_b/{}_pl2020_p1_b.shp\".format(data_folder, state_ab, state_ab)\n",
    "population2_data = \"./{}{}_pl2020_b/{}_pl2020_p2_b.shp\".format(data_folder, state_ab, state_ab)\n",
    "vap_data =  \"./{}{}_pl2020_b/{}_pl2020_p4_b.shp\".format(data_folder, state_ab, state_ab)\n",
    "vest20_data = \"./{}{}_vest_20/{}_vest_20.shp\".format(data_folder, state_ab, state_ab)\n",
    "vest18_data = \"./{}{}_vest_18/{}_vest_18.shp\".format(data_folder, state_ab, state_ab)\n",
    "vest16_data = \"./{}{}_vest_16/{}_vest_16.shp\".format(data_folder, state_ab, state_ab)\n",
    "cd_data = \"./{}{}_cong_adopted_2022/Approved_Official_Congressional_Map.shp\".format(data_folder, state_ab)\n",
    "send_data = \"./{}{}_sl_adopted_2022/Approved_Official_Legislative_Map.shp\".format(data_folder, state_ab)"
   ]
  },
  {
   "cell_type": "markdown",
   "id": "2594a66a-efb1-443f-8b0a-b2c73257f1cc",
   "metadata": {},
   "source": [
    "## Parameters that needs to be manually checked\n",
    "\n",
    "### base vest data\n",
    "start_col = 5\\\n",
    "vest_base_data = vest20\\\n",
    "year = '20'\n",
    "\n",
    "### district data\n",
    "district column name of cong_df, send, hdist when calling add_dist()"
   ]
  },
  {
   "cell_type": "markdown",
   "id": "d9cfe42b-cfd8-4ad4-b255-31268cb35669",
   "metadata": {},
   "source": [
    "# Program starts"
   ]
  },
  {
   "cell_type": "code",
   "execution_count": 3,
   "id": "49a264d4-c255-4393-b5ae-74b6f7c645da",
   "metadata": {},
   "outputs": [
    {
     "name": "stderr",
     "output_type": "stream",
     "text": [
      "/opt/anaconda3/lib/python3.9/site-packages/pandas/core/computation/expressions.py:21: UserWarning: Pandas requires version '2.8.4' or newer of 'numexpr' (version '2.8.1' currently installed).\n",
      "  from pandas.core.computation.check import NUMEXPR_INSTALLED\n",
      "/opt/anaconda3/lib/python3.9/site-packages/pandas/core/arrays/masked.py:60: UserWarning: Pandas requires version '1.3.6' or newer of 'bottleneck' (version '1.3.4' currently installed).\n",
      "  from pandas.core import (\n"
     ]
    }
   ],
   "source": [
    "import pandas as pd\n",
    "import geopandas as gpd\n",
    "import maup\n",
    "import time\n",
    "from maup import smart_repair\n",
    "from gerrychain import Graph\n",
    "import os\n",
    "\n",
    "maup.progress.enabled = True"
   ]
  },
  {
   "cell_type": "code",
   "execution_count": 4,
   "id": "f78d28b6-abb4-4444-aa7e-f0eb73dab3f2",
   "metadata": {},
   "outputs": [],
   "source": [
    "import warnings\n",
    "warnings.filterwarnings(\"ignore\")"
   ]
  },
  {
   "cell_type": "code",
   "execution_count": 5,
   "id": "378425b3-9819-41bd-8212-2e031b571cf2",
   "metadata": {},
   "outputs": [],
   "source": [
    "def do_smart_repair(df):\n",
    "    # change it to the UTM it needs for smart_repair\n",
    "    df = df.to_crs(df.estimate_utm_crs())\n",
    "    df = smart_repair(df)\n",
    "    \n",
    "    # check maup doctor again to see if smart repair works\n",
    "    if maup.doctor(df) == True:\n",
    "        # change it back to this UTM for this data\n",
    "        df = df.to_crs('EPSG:4269')\n",
    "    else:\n",
    "        raise Exception('maup.doctor failed')\n",
    "    \n",
    "    return df"
   ]
  },
  {
   "cell_type": "code",
   "execution_count": 6,
   "id": "df3945da-c3af-41a8-9511-a5aba33fef0b",
   "metadata": {},
   "outputs": [],
   "source": [
    "def add_district(dist_df, dist_name, election_df, col_name):\n",
    "    # check if it needs to be smart_repair\n",
    "    if maup.doctor(dist_df) != True:\n",
    "        dist_df = do_smart_repair(dist_df)\n",
    "\n",
    "    election_df = gpd.GeoDataFrame(election_df, crs=\"EPSG:4269\")\n",
    "\n",
    "    # assigne the pricincts\n",
    "    precincts_to_district_assignment = maup.assign(election_df.geometry, dist_df.geometry)\n",
    "    election_df[dist_name] = precincts_to_district_assignment\n",
    "    for precinct_index in range(len(election_df)):\n",
    "        election_df.at[precinct_index, dist_name] = dist_df.at[election_df.at[precinct_index, dist_name], col_name]\n",
    "\n",
    "    return election_df"
   ]
  },
  {
   "cell_type": "code",
   "execution_count": 7,
   "id": "29c38a31-6707-4ab3-a9e4-38d69ce6838c",
   "metadata": {},
   "outputs": [],
   "source": [
    "def rename(original, year):\n",
    "    party = original[6]\n",
    "    if party == 'R' or party == 'D':\n",
    "        return original[3:6] + year + original[6]\n",
    "    else:\n",
    "        return original[3:6] + year + 'O'"
   ]
  },
  {
   "cell_type": "code",
   "execution_count": 8,
   "id": "9cbd02f8-308e-4fe9-804a-6bc8474b749b",
   "metadata": {},
   "outputs": [],
   "source": [
    "def check_population(population, df):\n",
    "    pop_check = pd.DataFrame({\n",
    "        'pop_col': pop_col,\n",
    "        'population_df': population[pop_col].sum(), \n",
    "        'vest_base': df[pop_col].sum(),\n",
    "        'equal': [x == y for x, y in zip(population[pop_col].sum(), df[pop_col].sum())]\n",
    "    })\n",
    "    if pop_check['equal'].mean() < 1:\n",
    "        print(pop_check)\n",
    "        raise Exception(\"population doesn't agree\")\n",
    "\n",
    "    else:\n",
    "        print(\"population agrees\")"
   ]
  },
  {
   "cell_type": "code",
   "execution_count": 9,
   "id": "c4508baf-84cd-4a31-97ad-059164232e8e",
   "metadata": {},
   "outputs": [],
   "source": [
    "def add_vest(vest, df, year, population, start_col):    \n",
    "     # check if it needs to be smart_repair\n",
    "    if maup.doctor(vest) != True:\n",
    "        vest = do_smart_repair(vest)\n",
    "    \n",
    "    # rename the columns\n",
    "    original_col = vest.columns[start_col:-1]\n",
    "    new_col = [rename(i, year) for i in original_col]\n",
    "    rename_dict = dict(zip(original_col, new_col))\n",
    "    vest = vest.rename(columns=rename_dict)\n",
    "    vest = vest.groupby(level=0, axis=1).sum() # combine all the other party's vote into columns with sufix \"O\"\n",
    "    col_name = list(set(new_col))\n",
    "    col_name.sort()\n",
    "    \n",
    "    # make the blocks from precincts by weight\n",
    "    vest = gpd.GeoDataFrame(vest, crs=\"EPSG:4269\")\n",
    "    election_in_block = population[[\"VAP\", 'geometry']] # population_df is in block scale\n",
    "    blocks_to_precincts_assignment = maup.assign(election_in_block.geometry, vest.geometry)\n",
    "    weights = election_in_block[\"VAP\"] / blocks_to_precincts_assignment.map(election_in_block[\"VAP\"].groupby(blocks_to_precincts_assignment).sum())\n",
    "    weights = weights.fillna(0)\n",
    "    prorated = maup.prorate(blocks_to_precincts_assignment, vest[col_name], weights)\n",
    "    election_in_block[col_name] = prorated\n",
    "    \n",
    "    # assign blocks to precincts\n",
    "    election_in_block = gpd.GeoDataFrame(election_in_block, crs=\"EPSG:4269\")\n",
    "    df = gpd.GeoDataFrame(df, crs=\"EPSG:4269\")\n",
    "    block_to_pricinct_assginment = maup.assign(election_in_block.geometry, df.geometry)\n",
    "    df[col_name] = election_in_block[col_name].groupby(block_to_pricinct_assginment).sum()\n",
    "    df = df.groupby(level=0, axis=1).sum()\n",
    "    \n",
    "    # check if population agrees\n",
    "    check_population(population, df)\n",
    "    \n",
    "    return df"
   ]
  },
  {
   "cell_type": "markdown",
   "id": "ab6ce8f5-f237-4d6c-8425-cd8a0b080f65",
   "metadata": {},
   "source": [
    "## Read the census data"
   ]
  },
  {
   "cell_type": "code",
   "execution_count": 10,
   "id": "185d2b84-d37f-4f24-86c1-1bcd0b4347e2",
   "metadata": {},
   "outputs": [],
   "source": [
    "population1_df = gpd.read_file(population1_data)\n",
    "population2_df = gpd.read_file(population2_data)\n",
    "vap_df = gpd.read_file(vap_data)"
   ]
  },
  {
   "cell_type": "code",
   "execution_count": 11,
   "id": "57b3b9bb-9721-469d-8eee-0dd5eb0e6015",
   "metadata": {},
   "outputs": [],
   "source": [
    "population2_df = population2_df.drop(columns=['SUMLEV', 'LOGRECNO', 'GEOID', 'COUNTY', 'geometry'])\n",
    "vap_df = vap_df.drop(columns=['SUMLEV', 'LOGRECNO', 'GEOID', 'COUNTY', 'geometry'])"
   ]
  },
  {
   "cell_type": "code",
   "execution_count": 12,
   "id": "daa935f7-bc02-4856-adb0-9cc9cf31ffca",
   "metadata": {},
   "outputs": [],
   "source": [
    "population_df = pd.merge(population1_df, population2_df, on='GEOID20')\n",
    "population_df = pd.merge(population_df, vap_df, on='GEOID20')"
   ]
  },
  {
   "cell_type": "code",
   "execution_count": 13,
   "id": "0845f50e-9920-404a-8284-c47df7b0f6ce",
   "metadata": {},
   "outputs": [],
   "source": [
    "rename_dict = {'P0020001': 'TOTPOP', 'P0020002': 'HISP', 'P0020005': 'NH_WHITE', 'P0020006': 'NH_BLACK', 'P0020007': 'NH_AMIN',\n",
    "               'P0020008': 'NH_ASIAN', 'P0020009': 'NH_NHPI', 'P0020010': 'NH_OTHER', 'P0020011': 'NH_2MORE',\n",
    "               'P0040001': 'VAP', 'P0040002': 'HVAP', 'P0040005': 'WVAP', 'P0040006': 'BVAP', 'P0040007': 'AMINVAP',\n",
    "               'P0040008': 'ASIANVAP', 'P0040009': 'NHPIVAP', 'P0040010': 'OTHERVAP', 'P0040011': '2MOREVAP'}"
   ]
  },
  {
   "cell_type": "code",
   "execution_count": 14,
   "id": "4d4f9723-ad23-46ff-bbd0-8d4ab628b69b",
   "metadata": {},
   "outputs": [],
   "source": [
    "population_df.rename(columns=rename_dict, inplace = True)"
   ]
  },
  {
   "cell_type": "code",
   "execution_count": 15,
   "id": "9550a841-5692-4d5f-a7f1-131d53eb9f12",
   "metadata": {},
   "outputs": [],
   "source": [
    "population_df['H_WHITE'] = population_df.apply(lambda t: t['P0010003'] - t['NH_WHITE'], 1)\n",
    "population_df['H_BLACK'] = population_df.apply(lambda t: t['P0010004'] - t['NH_BLACK'], 1)\n",
    "population_df['H_AMIN'] = population_df.apply(lambda t: t['P0010005'] - t['NH_AMIN'], 1)\n",
    "population_df['H_ASIAN'] = population_df.apply(lambda t: t['P0010006'] - t['NH_ASIAN'], 1)\n",
    "population_df['H_NHPI'] = population_df.apply(lambda t: t['P0010007'] - t['NH_NHPI'], 1)\n",
    "population_df['H_OTHER'] = population_df.apply(lambda t: t['P0010008'] - t['NH_OTHER'], 1)\n",
    "population_df['H_2MORE'] = population_df.apply(lambda t: t['P0010009'] - t['NH_2MORE'], 1)"
   ]
  },
  {
   "cell_type": "markdown",
   "id": "e1e89689-06e1-4937-9bee-b0442bfc33d5",
   "metadata": {},
   "source": [
    "# Read the base vest data\n",
    "Now using it as a \"base precinct\", but it could be vest 18 or vest 16 if vest 20 is not working"
   ]
  },
  {
   "cell_type": "code",
   "execution_count": 16,
   "id": "9f3f7fd2-4b38-4b7f-8352-b960681a83c0",
   "metadata": {},
   "outputs": [],
   "source": [
    "def add_vest_base(vest, start_col, year):\n",
    "    original_col = vest.columns[start_col:-1]\n",
    "    new_col = [rename(i, year) for i in original_col]\n",
    "    rename_dict = dict(zip(original_col, new_col))\n",
    "    vest = vest.rename(columns=rename_dict)\n",
    "    vest = vest.groupby(level=0, axis=1).sum()\n",
    "    vest = gpd.GeoDataFrame(vest, crs=\"EPSG:4269\")\n",
    "    \n",
    "    return vest"
   ]
  },
  {
   "cell_type": "markdown",
   "id": "bcfb3af1-db89-4463-98d8-3a0192067bb4",
   "metadata": {},
   "source": [
    "### Check if vest 20 can be used as base"
   ]
  },
  {
   "cell_type": "code",
   "execution_count": 17,
   "id": "397e9936-bfde-4b09-9dcb-207733dfb2dd",
   "metadata": {},
   "outputs": [],
   "source": [
    "vest20 = gpd.read_file(vest20_data)"
   ]
  },
  {
   "cell_type": "code",
   "execution_count": 18,
   "id": "dabe5bd2-39a8-40a6-93dc-a989a4c702b6",
   "metadata": {
    "tags": []
   },
   "outputs": [
    {
     "name": "stderr",
     "output_type": "stream",
     "text": [
      "100%|██████████████████████████████████████| 1489/1489 [00:07<00:00, 212.21it/s]\n"
     ]
    },
    {
     "name": "stdout",
     "output_type": "stream",
     "text": [
      "There are 443 overlaps.\n",
      "There are 26 holes.\n",
      "Snapping all geometries to a grid with precision 10^( -5 ) to avoid GEOS errors.\n",
      "Identifying overlaps...\n"
     ]
    },
    {
     "name": "stderr",
     "output_type": "stream",
     "text": [
      "100%|████████████████████████████████████| 11803/11803 [00:16<00:00, 696.34it/s]\n"
     ]
    },
    {
     "name": "stdout",
     "output_type": "stream",
     "text": [
      "Resolving overlaps...\n",
      "Assigning order 2 pieces...\n",
      "Assigning order 3 pieces...\n",
      "Filling gaps...\n"
     ]
    },
    {
     "name": "stderr",
     "output_type": "stream",
     "text": [
      "Gaps to simplify: 100%|█████████████████████| 5124/5124 [28:24<00:00,  3.01it/s]\n",
      "Gaps to fill: 100%|███████████████████████████| 145/145 [00:56<00:00,  2.55it/s]\n",
      "100%|██████████████████████████████████████| 1489/1489 [00:06<00:00, 234.11it/s]\n"
     ]
    }
   ],
   "source": [
    "if maup.doctor(vest20) != True:\n",
    "    vest20 = do_smart_repair(vest20)"
   ]
  },
  {
   "cell_type": "markdown",
   "id": "20718edd-b876-4d8d-8509-5eeee4b9b9be",
   "metadata": {},
   "source": [
    "### If it is true for maup doctor, we will use it as the base vest data.\n",
    "Check where the election column starts, this should be the same for all vest data in that state"
   ]
  },
  {
   "cell_type": "code",
   "execution_count": 19,
   "id": "2d744be1-7568-4b94-a383-17d219ac128b",
   "metadata": {},
   "outputs": [
    {
     "data": {
      "text/plain": [
       "Index(['CDE_COUNTY', 'PCTNUM', 'PRECINCTNA', 'G20PREDBID', 'G20PRERTRU',\n",
       "       'G20PRELJOR', 'G20USSDKEL', 'G20USSRMCS', 'geometry'],\n",
       "      dtype='object')"
      ]
     },
     "execution_count": 19,
     "metadata": {},
     "output_type": "execute_result"
    }
   ],
   "source": [
    "vest20.columns"
   ]
  },
  {
   "cell_type": "markdown",
   "id": "65620cab-599f-4232-818e-e85846d02694",
   "metadata": {},
   "source": [
    "## Parameters that need to be checked"
   ]
  },
  {
   "cell_type": "code",
   "execution_count": 20,
   "id": "4200a0f8-29dd-42f9-96e4-ff27188ce32a",
   "metadata": {},
   "outputs": [],
   "source": [
    "start_col = 3\n",
    "vest_base_data = vest20\n",
    "year = '20'"
   ]
  },
  {
   "cell_type": "code",
   "execution_count": 21,
   "id": "728420ec-9df2-4771-ae4c-1832fe3fb12f",
   "metadata": {},
   "outputs": [],
   "source": [
    "vest_base = add_vest_base(vest_base_data, start_col, year)"
   ]
  },
  {
   "cell_type": "code",
   "execution_count": 22,
   "id": "10e48467-d392-4312-b15f-bf18106f354c",
   "metadata": {},
   "outputs": [
    {
     "name": "stderr",
     "output_type": "stream",
     "text": [
      "100%|██████████████████████████████████████| 1489/1489 [00:07<00:00, 188.69it/s]\n",
      "100%|███████████████████████████████████████| 1489/1489 [01:03<00:00, 23.56it/s]\n"
     ]
    }
   ],
   "source": [
    "# vap and population have the same GEOID20\n",
    "blocks_to_precincts_assignment = maup.assign(population_df.geometry, vest_base.geometry)"
   ]
  },
  {
   "cell_type": "code",
   "execution_count": 23,
   "id": "ac015a92-391c-48c4-b26a-5c511b58e3ab",
   "metadata": {},
   "outputs": [],
   "source": [
    "pop_col = ['TOTPOP', 'HISP', 'NH_WHITE', 'NH_BLACK', 'NH_AMIN', 'NH_ASIAN', 'NH_NHPI', 'NH_OTHER', 'NH_2MORE', 'H_WHITE', 'H_BLACK', 'H_AMIN', 'H_ASIAN', 'H_NHPI', 'H_OTHER', 'H_2MORE', 'VAP', 'HVAP', 'WVAP', 'BVAP', 'AMINVAP', 'ASIANVAP', 'NHPIVAP', 'OTHERVAP', '2MOREVAP']"
   ]
  },
  {
   "cell_type": "code",
   "execution_count": 24,
   "id": "f91b6866-727d-40c9-9d43-4a0e6ae8c0e2",
   "metadata": {},
   "outputs": [],
   "source": [
    "vest_base[pop_col] = population_df[pop_col].groupby(blocks_to_precincts_assignment).sum()"
   ]
  },
  {
   "cell_type": "code",
   "execution_count": 25,
   "id": "ead5880d-f5f1-44f0-8024-ff4789ff2f15",
   "metadata": {},
   "outputs": [],
   "source": [
    "election_df = gpd.GeoDataFrame(vest_base, crs=\"EPSG:4269\")"
   ]
  },
  {
   "cell_type": "markdown",
   "id": "cf1aefdb-30e0-4d1f-9261-01a513f4e1d3",
   "metadata": {},
   "source": [
    "### Check if the population agrees"
   ]
  },
  {
   "cell_type": "code",
   "execution_count": 26,
   "id": "d6ff200d-d1d6-4f7d-ba3b-142cddc0eb85",
   "metadata": {},
   "outputs": [
    {
     "name": "stdout",
     "output_type": "stream",
     "text": [
      "population agrees\n"
     ]
    }
   ],
   "source": [
    "check_population(population_df, vest_base)"
   ]
  },
  {
   "cell_type": "markdown",
   "id": "2b677d1a-cbe3-47aa-ae8a-761d0dfc7ad1",
   "metadata": {},
   "source": [
    "# Add more vest data"
   ]
  },
  {
   "cell_type": "code",
   "execution_count": 27,
   "id": "a404637a-46a1-41f4-bd81-6842a9a7274c",
   "metadata": {},
   "outputs": [],
   "source": [
    "vest18 = gpd.read_file(vest18_data)"
   ]
  },
  {
   "cell_type": "code",
   "execution_count": 28,
   "id": "d94c3765-b784-4e9b-9b29-0c8a3bbdbf0d",
   "metadata": {},
   "outputs": [
    {
     "data": {
      "text/plain": [
       "Index(['CDE_COUNTY', 'PCTNUM', 'PRECINCTNA', 'G18USSRMCS', 'G18USSDSIN',\n",
       "       'G18USSGGRE', 'G18USSOWRI', 'G18GOVRDUC', 'G18GOVDGAR', 'G18GOVGTOR',\n",
       "       'G18GOVOWRI', 'G18SOSRGAY', 'G18SOSDHOB', 'G18SOSOWRI', 'G18ATGRBRN',\n",
       "       'G18ATGDCON', 'G18ATGOWRI', 'G18TRERYEE', 'G18TREDMAN', 'G18TREOWRI',\n",
       "       'G18SPIRRIG', 'G18SPIDHOF', 'G18SPIOWRI', 'G18MNIRHAR', 'G18MNIDPIE',\n",
       "       'G18MNIOWRI', 'geometry'],\n",
       "      dtype='object')"
      ]
     },
     "execution_count": 28,
     "metadata": {},
     "output_type": "execute_result"
    }
   ],
   "source": [
    "vest18.columns"
   ]
  },
  {
   "cell_type": "code",
   "execution_count": 29,
   "id": "5528f64a-1b5c-4b9f-b7cf-aefa45d4d25f",
   "metadata": {},
   "outputs": [
    {
     "name": "stderr",
     "output_type": "stream",
     "text": [
      "100%|██████████████████████████████████████| 1489/1489 [00:06<00:00, 217.87it/s]\n"
     ]
    },
    {
     "name": "stdout",
     "output_type": "stream",
     "text": [
      "There are 443 overlaps.\n",
      "There are 26 holes.\n",
      "Snapping all geometries to a grid with precision 10^( -5 ) to avoid GEOS errors.\n",
      "Identifying overlaps...\n"
     ]
    },
    {
     "name": "stderr",
     "output_type": "stream",
     "text": [
      "100%|████████████████████████████████████| 11803/11803 [00:19<00:00, 614.65it/s]\n"
     ]
    },
    {
     "name": "stdout",
     "output_type": "stream",
     "text": [
      "Resolving overlaps...\n",
      "Assigning order 2 pieces...\n",
      "Assigning order 3 pieces...\n",
      "Filling gaps...\n"
     ]
    },
    {
     "name": "stderr",
     "output_type": "stream",
     "text": [
      "Gaps to simplify: 100%|█████████████████████| 5124/5124 [29:44<00:00,  2.87it/s]\n",
      "Gaps to fill: 100%|███████████████████████████| 145/145 [00:50<00:00,  2.88it/s]\n",
      "100%|██████████████████████████████████████| 1489/1489 [00:05<00:00, 275.01it/s]\n",
      "100%|██████████████████████████████████████| 1489/1489 [00:07<00:00, 191.16it/s]\n",
      "100%|███████████████████████████████████████| 1489/1489 [00:55<00:00, 26.96it/s]\n",
      "100%|██████████████████████████████████████| 1489/1489 [00:07<00:00, 211.16it/s]\n",
      "100%|███████████████████████████████████████| 1489/1489 [00:55<00:00, 26.87it/s]\n"
     ]
    },
    {
     "name": "stdout",
     "output_type": "stream",
     "text": [
      "population agrees\n"
     ]
    }
   ],
   "source": [
    "# check the result here\n",
    "election_df = add_vest(vest18, election_df, '18', population_df, start_col)"
   ]
  },
  {
   "cell_type": "code",
   "execution_count": 30,
   "id": "4d7476dd-c003-4fa5-ab9b-8ed6f75bed39",
   "metadata": {
    "tags": []
   },
   "outputs": [
    {
     "data": {
      "text/plain": [
       "Index(['CDE_COUNTY', 'PCTNUM', 'PRECINCTNA', 'G16PRERTRU', 'G16PREDCLI',\n",
       "       'G16PRELJOH', 'G16PREGSTE', 'G16PREOWRI', 'G16USSRMCC', 'G16USSDKIR',\n",
       "       'G16USSGSWI', 'G16USSOWRI', 'geometry'],\n",
       "      dtype='object')"
      ]
     },
     "execution_count": 30,
     "metadata": {},
     "output_type": "execute_result"
    }
   ],
   "source": [
    "vest16 = gpd.read_file(vest16_data)\n",
    "vest16.columns"
   ]
  },
  {
   "cell_type": "code",
   "execution_count": 31,
   "id": "136186d1-d139-4d8d-8f52-36064690b7af",
   "metadata": {},
   "outputs": [
    {
     "name": "stderr",
     "output_type": "stream",
     "text": [
      "100%|██████████████████████████████████████| 1469/1469 [00:05<00:00, 262.89it/s]\n"
     ]
    },
    {
     "name": "stdout",
     "output_type": "stream",
     "text": [
      "There are 274 overlaps.\n",
      "There are 4809 holes.\n",
      "Snapping all geometries to a grid with precision 10^( -5 ) to avoid GEOS errors.\n",
      "Identifying overlaps...\n"
     ]
    },
    {
     "name": "stderr",
     "output_type": "stream",
     "text": [
      "100%|████████████████████████████████████| 11376/11376 [00:16<00:00, 678.39it/s]\n"
     ]
    },
    {
     "name": "stdout",
     "output_type": "stream",
     "text": [
      "Resolving overlaps...\n",
      "Assigning order 2 pieces...\n",
      "Assigning order 3 pieces...\n",
      "Filling gaps...\n"
     ]
    },
    {
     "name": "stderr",
     "output_type": "stream",
     "text": [
      "Gaps to simplify: 100%|█████████████████████| 4916/4916 [26:52<00:00,  3.05it/s]\n",
      "Gaps to fill: 100%|███████████████████████████| 109/109 [00:43<00:00,  2.48it/s]\n",
      "100%|██████████████████████████████████████| 1469/1469 [00:05<00:00, 273.88it/s]\n",
      "100%|██████████████████████████████████████| 1469/1469 [00:08<00:00, 182.76it/s]\n",
      "100%|███████████████████████████████████████| 1469/1469 [00:54<00:00, 26.99it/s]\n",
      "100%|██████████████████████████████████████| 1489/1489 [00:06<00:00, 213.08it/s]\n",
      "100%|███████████████████████████████████████| 1489/1489 [00:54<00:00, 27.27it/s]\n"
     ]
    },
    {
     "name": "stdout",
     "output_type": "stream",
     "text": [
      "population agrees\n"
     ]
    }
   ],
   "source": [
    "election_df = add_vest(vest16, election_df, '16', population_df, start_col)"
   ]
  },
  {
   "cell_type": "markdown",
   "id": "10cf83d4-6005-485b-8193-c0149869a97e",
   "metadata": {},
   "source": [
    "## Add the district data"
   ]
  },
  {
   "cell_type": "code",
   "execution_count": 32,
   "id": "a0ccb606-7fe4-4b0a-998b-337d31f4abc5",
   "metadata": {},
   "outputs": [],
   "source": [
    "cong_df = gpd.read_file(cd_data).to_crs('EPSG:4269')\n",
    "send = gpd.read_file(send_data).to_crs('EPSG:4269')"
   ]
  },
  {
   "cell_type": "code",
   "execution_count": 33,
   "id": "dd5dba22-3d02-4361-9408-db49f0a1ac4d",
   "metadata": {},
   "outputs": [
    {
     "data": {
      "text/html": [
       "<div>\n",
       "<style scoped>\n",
       "    .dataframe tbody tr th:only-of-type {\n",
       "        vertical-align: middle;\n",
       "    }\n",
       "\n",
       "    .dataframe tbody tr th {\n",
       "        vertical-align: top;\n",
       "    }\n",
       "\n",
       "    .dataframe thead th {\n",
       "        text-align: right;\n",
       "    }\n",
       "</style>\n",
       "<table border=\"1\" class=\"dataframe\">\n",
       "  <thead>\n",
       "    <tr style=\"text-align: right;\">\n",
       "      <th></th>\n",
       "      <th>LONGNAME</th>\n",
       "      <th>SHORTNAME</th>\n",
       "      <th>DISTRICT</th>\n",
       "      <th>COLOR</th>\n",
       "      <th>TOTAL</th>\n",
       "      <th>TARGET_DEV</th>\n",
       "      <th>CompDemVot</th>\n",
       "      <th>CompRepVot</th>\n",
       "      <th>Pres2020_D</th>\n",
       "      <th>Sen2020_DE</th>\n",
       "      <th>...</th>\n",
       "      <th>ST1519_M2_</th>\n",
       "      <th>ST1519_M21</th>\n",
       "      <th>ST1519_M22</th>\n",
       "      <th>ST1519_M23</th>\n",
       "      <th>ST1519_M24</th>\n",
       "      <th>ST1519_M25</th>\n",
       "      <th>G_AINH18</th>\n",
       "      <th>G_AINH18_P</th>\n",
       "      <th>TOTAL18</th>\n",
       "      <th>geometry</th>\n",
       "    </tr>\n",
       "  </thead>\n",
       "  <tbody>\n",
       "    <tr>\n",
       "      <th>0</th>\n",
       "      <td>District 1</td>\n",
       "      <td>D1</td>\n",
       "      <td>1</td>\n",
       "      <td>-16777088</td>\n",
       "      <td>794611</td>\n",
       "      <td>0.0</td>\n",
       "      <td>48.70</td>\n",
       "      <td>51.30</td>\n",
       "      <td>50.76</td>\n",
       "      <td>50.76</td>\n",
       "      <td>...</td>\n",
       "      <td>608665</td>\n",
       "      <td>11.28</td>\n",
       "      <td>79.81</td>\n",
       "      <td>3.26</td>\n",
       "      <td>1.93</td>\n",
       "      <td>3.52</td>\n",
       "      <td>9198</td>\n",
       "      <td>1.41</td>\n",
       "      <td>650548</td>\n",
       "      <td>POLYGON ((-111.97848 33.46567, -111.97890 33.4...</td>\n",
       "    </tr>\n",
       "    <tr>\n",
       "      <th>1</th>\n",
       "      <td>District 2</td>\n",
       "      <td>D2</td>\n",
       "      <td>2</td>\n",
       "      <td>7405440</td>\n",
       "      <td>794612</td>\n",
       "      <td>0.0</td>\n",
       "      <td>46.40</td>\n",
       "      <td>53.60</td>\n",
       "      <td>45.95</td>\n",
       "      <td>47.33</td>\n",
       "      <td>...</td>\n",
       "      <td>593135</td>\n",
       "      <td>13.68</td>\n",
       "      <td>61.66</td>\n",
       "      <td>2.31</td>\n",
       "      <td>20.70</td>\n",
       "      <td>1.39</td>\n",
       "      <td>115094</td>\n",
       "      <td>18.31</td>\n",
       "      <td>628519</td>\n",
       "      <td>POLYGON ((-111.03999 33.46602, -111.03992 33.4...</td>\n",
       "    </tr>\n",
       "    <tr>\n",
       "      <th>2</th>\n",
       "      <td>District 3</td>\n",
       "      <td>D3</td>\n",
       "      <td>3</td>\n",
       "      <td>950534272</td>\n",
       "      <td>794612</td>\n",
       "      <td>0.0</td>\n",
       "      <td>76.46</td>\n",
       "      <td>23.54</td>\n",
       "      <td>75.72</td>\n",
       "      <td>76.71</td>\n",
       "      <td>...</td>\n",
       "      <td>433659</td>\n",
       "      <td>50.55</td>\n",
       "      <td>30.90</td>\n",
       "      <td>12.14</td>\n",
       "      <td>3.11</td>\n",
       "      <td>2.89</td>\n",
       "      <td>11857</td>\n",
       "      <td>2.09</td>\n",
       "      <td>568035</td>\n",
       "      <td>POLYGON ((-112.09965 33.53140, -112.09966 33.5...</td>\n",
       "    </tr>\n",
       "    <tr>\n",
       "      <th>3</th>\n",
       "      <td>District 4</td>\n",
       "      <td>D4</td>\n",
       "      <td>4</td>\n",
       "      <td>1275097984</td>\n",
       "      <td>794611</td>\n",
       "      <td>0.0</td>\n",
       "      <td>53.51</td>\n",
       "      <td>46.49</td>\n",
       "      <td>55.25</td>\n",
       "      <td>56.02</td>\n",
       "      <td>...</td>\n",
       "      <td>567091</td>\n",
       "      <td>18.83</td>\n",
       "      <td>68.00</td>\n",
       "      <td>6.10</td>\n",
       "      <td>2.79</td>\n",
       "      <td>3.93</td>\n",
       "      <td>13036</td>\n",
       "      <td>2.07</td>\n",
       "      <td>628965</td>\n",
       "      <td>POLYGON ((-111.97879 33.43652, -111.97880 33.4...</td>\n",
       "    </tr>\n",
       "    <tr>\n",
       "      <th>4</th>\n",
       "      <td>District 5</td>\n",
       "      <td>D5</td>\n",
       "      <td>5</td>\n",
       "      <td>-5635968</td>\n",
       "      <td>794612</td>\n",
       "      <td>0.0</td>\n",
       "      <td>40.97</td>\n",
       "      <td>59.02</td>\n",
       "      <td>41.74</td>\n",
       "      <td>42.76</td>\n",
       "      <td>...</td>\n",
       "      <td>502662</td>\n",
       "      <td>14.36</td>\n",
       "      <td>75.95</td>\n",
       "      <td>3.56</td>\n",
       "      <td>1.26</td>\n",
       "      <td>4.63</td>\n",
       "      <td>4349</td>\n",
       "      <td>0.74</td>\n",
       "      <td>584092</td>\n",
       "      <td>POLYGON ((-111.89263 33.29224, -111.89131 33.2...</td>\n",
       "    </tr>\n",
       "  </tbody>\n",
       "</table>\n",
       "<p>5 rows × 34 columns</p>\n",
       "</div>"
      ],
      "text/plain": [
       "     LONGNAME SHORTNAME  DISTRICT       COLOR   TOTAL  TARGET_DEV  CompDemVot  \\\n",
       "0  District 1        D1         1   -16777088  794611         0.0       48.70   \n",
       "1  District 2        D2         2     7405440  794612         0.0       46.40   \n",
       "2  District 3        D3         3   950534272  794612         0.0       76.46   \n",
       "3  District 4        D4         4  1275097984  794611         0.0       53.51   \n",
       "4  District 5        D5         5    -5635968  794612         0.0       40.97   \n",
       "\n",
       "   CompRepVot  Pres2020_D  Sen2020_DE  ...  ST1519_M2_  ST1519_M21  \\\n",
       "0       51.30       50.76       50.76  ...      608665       11.28   \n",
       "1       53.60       45.95       47.33  ...      593135       13.68   \n",
       "2       23.54       75.72       76.71  ...      433659       50.55   \n",
       "3       46.49       55.25       56.02  ...      567091       18.83   \n",
       "4       59.02       41.74       42.76  ...      502662       14.36   \n",
       "\n",
       "   ST1519_M22  ST1519_M23  ST1519_M24  ST1519_M25  G_AINH18  G_AINH18_P  \\\n",
       "0       79.81        3.26        1.93        3.52      9198        1.41   \n",
       "1       61.66        2.31       20.70        1.39    115094       18.31   \n",
       "2       30.90       12.14        3.11        2.89     11857        2.09   \n",
       "3       68.00        6.10        2.79        3.93     13036        2.07   \n",
       "4       75.95        3.56        1.26        4.63      4349        0.74   \n",
       "\n",
       "   TOTAL18                                           geometry  \n",
       "0   650548  POLYGON ((-111.97848 33.46567, -111.97890 33.4...  \n",
       "1   628519  POLYGON ((-111.03999 33.46602, -111.03992 33.4...  \n",
       "2   568035  POLYGON ((-112.09965 33.53140, -112.09966 33.5...  \n",
       "3   628965  POLYGON ((-111.97879 33.43652, -111.97880 33.4...  \n",
       "4   584092  POLYGON ((-111.89263 33.29224, -111.89131 33.2...  \n",
       "\n",
       "[5 rows x 34 columns]"
      ]
     },
     "execution_count": 33,
     "metadata": {},
     "output_type": "execute_result"
    }
   ],
   "source": [
    "cong_df.head()"
   ]
  },
  {
   "cell_type": "code",
   "execution_count": 34,
   "id": "53633412-ea16-4ab0-a5c2-017c66afe248",
   "metadata": {},
   "outputs": [
    {
     "data": {
      "text/html": [
       "<div>\n",
       "<style scoped>\n",
       "    .dataframe tbody tr th:only-of-type {\n",
       "        vertical-align: middle;\n",
       "    }\n",
       "\n",
       "    .dataframe tbody tr th {\n",
       "        vertical-align: top;\n",
       "    }\n",
       "\n",
       "    .dataframe thead th {\n",
       "        text-align: right;\n",
       "    }\n",
       "</style>\n",
       "<table border=\"1\" class=\"dataframe\">\n",
       "  <thead>\n",
       "    <tr style=\"text-align: right;\">\n",
       "      <th></th>\n",
       "      <th>LONGNAME</th>\n",
       "      <th>SHORTNAME</th>\n",
       "      <th>DISTRICT</th>\n",
       "      <th>COLOR</th>\n",
       "      <th>TOTAL</th>\n",
       "      <th>TARGET_DEV</th>\n",
       "      <th>CompDemVot</th>\n",
       "      <th>CompRepVot</th>\n",
       "      <th>Pres2020_D</th>\n",
       "      <th>Sen2020_DE</th>\n",
       "      <th>...</th>\n",
       "      <th>ST1519_M2_</th>\n",
       "      <th>ST1519_M21</th>\n",
       "      <th>ST1519_M22</th>\n",
       "      <th>ST1519_M23</th>\n",
       "      <th>ST1519_M24</th>\n",
       "      <th>ST1519_M25</th>\n",
       "      <th>G_AINH18</th>\n",
       "      <th>G_AINH18_P</th>\n",
       "      <th>TOTAL18</th>\n",
       "      <th>geometry</th>\n",
       "    </tr>\n",
       "  </thead>\n",
       "  <tbody>\n",
       "    <tr>\n",
       "      <th>0</th>\n",
       "      <td>District 1</td>\n",
       "      <td>D1</td>\n",
       "      <td>1</td>\n",
       "      <td>-159680128</td>\n",
       "      <td>237896</td>\n",
       "      <td>-0.20</td>\n",
       "      <td>36.11</td>\n",
       "      <td>63.89</td>\n",
       "      <td>35.45</td>\n",
       "      <td>36.79</td>\n",
       "      <td>...</td>\n",
       "      <td>186039</td>\n",
       "      <td>9.98</td>\n",
       "      <td>85.74</td>\n",
       "      <td>0.78</td>\n",
       "      <td>2.01</td>\n",
       "      <td>1.26</td>\n",
       "      <td>2473</td>\n",
       "      <td>1.23</td>\n",
       "      <td>200724</td>\n",
       "      <td>POLYGON ((-113.33320 34.41078, -113.33320 34.4...</td>\n",
       "    </tr>\n",
       "    <tr>\n",
       "      <th>1</th>\n",
       "      <td>District 2</td>\n",
       "      <td>D2</td>\n",
       "      <td>2</td>\n",
       "      <td>310162560</td>\n",
       "      <td>246674</td>\n",
       "      <td>3.48</td>\n",
       "      <td>48.10</td>\n",
       "      <td>51.90</td>\n",
       "      <td>48.94</td>\n",
       "      <td>50.32</td>\n",
       "      <td>...</td>\n",
       "      <td>169854</td>\n",
       "      <td>15.36</td>\n",
       "      <td>74.95</td>\n",
       "      <td>4.11</td>\n",
       "      <td>1.63</td>\n",
       "      <td>3.71</td>\n",
       "      <td>2186</td>\n",
       "      <td>1.13</td>\n",
       "      <td>192714</td>\n",
       "      <td>POLYGON ((-112.03084 33.66957, -112.02930 33.6...</td>\n",
       "    </tr>\n",
       "    <tr>\n",
       "      <th>2</th>\n",
       "      <td>District 3</td>\n",
       "      <td>D3</td>\n",
       "      <td>3</td>\n",
       "      <td>-5635968</td>\n",
       "      <td>236955</td>\n",
       "      <td>-0.60</td>\n",
       "      <td>37.18</td>\n",
       "      <td>62.82</td>\n",
       "      <td>39.19</td>\n",
       "      <td>39.06</td>\n",
       "      <td>...</td>\n",
       "      <td>184570</td>\n",
       "      <td>4.75</td>\n",
       "      <td>89.13</td>\n",
       "      <td>1.47</td>\n",
       "      <td>0.92</td>\n",
       "      <td>3.63</td>\n",
       "      <td>1199</td>\n",
       "      <td>0.61</td>\n",
       "      <td>195367</td>\n",
       "      <td>POLYGON ((-111.80195 33.56789, -111.80474 33.5...</td>\n",
       "    </tr>\n",
       "    <tr>\n",
       "      <th>3</th>\n",
       "      <td>District 4</td>\n",
       "      <td>D4</td>\n",
       "      <td>4</td>\n",
       "      <td>-194658649</td>\n",
       "      <td>244298</td>\n",
       "      <td>2.48</td>\n",
       "      <td>48.29</td>\n",
       "      <td>51.71</td>\n",
       "      <td>50.44</td>\n",
       "      <td>50.10</td>\n",
       "      <td>...</td>\n",
       "      <td>188558</td>\n",
       "      <td>8.47</td>\n",
       "      <td>84.26</td>\n",
       "      <td>2.15</td>\n",
       "      <td>0.73</td>\n",
       "      <td>4.17</td>\n",
       "      <td>933</td>\n",
       "      <td>0.46</td>\n",
       "      <td>200823</td>\n",
       "      <td>POLYGON ((-112.02423 33.62255, -112.02424 33.6...</td>\n",
       "    </tr>\n",
       "    <tr>\n",
       "      <th>4</th>\n",
       "      <td>District 5</td>\n",
       "      <td>D5</td>\n",
       "      <td>5</td>\n",
       "      <td>-369115520</td>\n",
       "      <td>239088</td>\n",
       "      <td>0.30</td>\n",
       "      <td>69.05</td>\n",
       "      <td>30.95</td>\n",
       "      <td>70.26</td>\n",
       "      <td>70.36</td>\n",
       "      <td>...</td>\n",
       "      <td>163741</td>\n",
       "      <td>25.73</td>\n",
       "      <td>61.15</td>\n",
       "      <td>6.65</td>\n",
       "      <td>3.29</td>\n",
       "      <td>2.85</td>\n",
       "      <td>4313</td>\n",
       "      <td>2.25</td>\n",
       "      <td>192005</td>\n",
       "      <td>POLYGON ((-112.04772 33.45143, -112.04894 33.4...</td>\n",
       "    </tr>\n",
       "  </tbody>\n",
       "</table>\n",
       "<p>5 rows × 34 columns</p>\n",
       "</div>"
      ],
      "text/plain": [
       "     LONGNAME SHORTNAME  DISTRICT      COLOR   TOTAL  TARGET_DEV  CompDemVot  \\\n",
       "0  District 1        D1         1 -159680128  237896       -0.20       36.11   \n",
       "1  District 2        D2         2  310162560  246674        3.48       48.10   \n",
       "2  District 3        D3         3   -5635968  236955       -0.60       37.18   \n",
       "3  District 4        D4         4 -194658649  244298        2.48       48.29   \n",
       "4  District 5        D5         5 -369115520  239088        0.30       69.05   \n",
       "\n",
       "   CompRepVot  Pres2020_D  Sen2020_DE  ...  ST1519_M2_  ST1519_M21  \\\n",
       "0       63.89       35.45       36.79  ...      186039        9.98   \n",
       "1       51.90       48.94       50.32  ...      169854       15.36   \n",
       "2       62.82       39.19       39.06  ...      184570        4.75   \n",
       "3       51.71       50.44       50.10  ...      188558        8.47   \n",
       "4       30.95       70.26       70.36  ...      163741       25.73   \n",
       "\n",
       "   ST1519_M22  ST1519_M23  ST1519_M24  ST1519_M25  G_AINH18  G_AINH18_P  \\\n",
       "0       85.74        0.78        2.01        1.26      2473        1.23   \n",
       "1       74.95        4.11        1.63        3.71      2186        1.13   \n",
       "2       89.13        1.47        0.92        3.63      1199        0.61   \n",
       "3       84.26        2.15        0.73        4.17       933        0.46   \n",
       "4       61.15        6.65        3.29        2.85      4313        2.25   \n",
       "\n",
       "   TOTAL18                                           geometry  \n",
       "0   200724  POLYGON ((-113.33320 34.41078, -113.33320 34.4...  \n",
       "1   192714  POLYGON ((-112.03084 33.66957, -112.02930 33.6...  \n",
       "2   195367  POLYGON ((-111.80195 33.56789, -111.80474 33.5...  \n",
       "3   200823  POLYGON ((-112.02423 33.62255, -112.02424 33.6...  \n",
       "4   192005  POLYGON ((-112.04772 33.45143, -112.04894 33.4...  \n",
       "\n",
       "[5 rows x 34 columns]"
      ]
     },
     "execution_count": 34,
     "metadata": {},
     "output_type": "execute_result"
    }
   ],
   "source": [
    "send.head()"
   ]
  },
  {
   "cell_type": "code",
   "execution_count": 35,
   "id": "2b8fbf45-f392-4996-9dc6-e9ee67d0e715",
   "metadata": {
    "tags": []
   },
   "outputs": [
    {
     "name": "stderr",
     "output_type": "stream",
     "text": [
      "100%|█████████████████████████████████████████████| 9/9 [00:00<00:00, 20.91it/s]\n",
      "100%|█████████████████████████████████████████████| 9/9 [00:00<00:00, 38.58it/s]\n",
      "100%|█████████████████████████████████████████████| 9/9 [00:07<00:00,  1.17it/s]\n"
     ]
    }
   ],
   "source": [
    "election_df = add_district(cong_df, \"CD\", election_df, \"DISTRICT\")"
   ]
  },
  {
   "cell_type": "code",
   "execution_count": 36,
   "id": "a9fe98af-f37e-4200-835e-f96695f68e41",
   "metadata": {
    "tags": []
   },
   "outputs": [
    {
     "name": "stderr",
     "output_type": "stream",
     "text": [
      "100%|███████████████████████████████████████████| 30/30 [00:01<00:00, 23.65it/s]\n",
      "100%|██████████████████████████████████████████| 30/30 [00:00<00:00, 149.65it/s]\n",
      "100%|███████████████████████████████████████████| 30/30 [00:13<00:00,  2.21it/s]\n"
     ]
    }
   ],
   "source": [
    "election_df = add_district(send, \"SEND\", election_df, \"DISTRICT\")"
   ]
  },
  {
   "cell_type": "code",
   "execution_count": 37,
   "id": "aaee6a30-6a18-473e-bd02-7881c1e94e68",
   "metadata": {},
   "outputs": [
    {
     "data": {
      "text/plain": [
       "Index(['2MOREVAP', 'AMINVAP', 'ASIANVAP', 'ATG18D', 'ATG18O', 'ATG18R', 'BVAP',\n",
       "       'CDE_COUNTY', 'GOV18D', 'GOV18O', 'GOV18R', 'HISP', 'HVAP', 'H_2MORE',\n",
       "       'H_AMIN', 'H_ASIAN', 'H_BLACK', 'H_NHPI', 'H_OTHER', 'H_WHITE',\n",
       "       'MNI18D', 'MNI18O', 'MNI18R', 'NHPIVAP', 'NH_2MORE', 'NH_AMIN',\n",
       "       'NH_ASIAN', 'NH_BLACK', 'NH_NHPI', 'NH_OTHER', 'NH_WHITE', 'OTHERVAP',\n",
       "       'PCTNUM', 'PRE16D', 'PRE16O', 'PRE16R', 'PRE20D', 'PRE20O', 'PRE20R',\n",
       "       'PRECINCTNA', 'SOS18D', 'SOS18O', 'SOS18R', 'SPI18D', 'SPI18O',\n",
       "       'SPI18R', 'TOTPOP', 'TRE18D', 'TRE18O', 'TRE18R', 'USS16D', 'USS16O',\n",
       "       'USS16R', 'USS18D', 'USS18O', 'USS18R', 'USS20D', 'USS20R', 'VAP',\n",
       "       'WVAP', 'geometry', 'CD', 'SEND'],\n",
       "      dtype='object')"
      ]
     },
     "execution_count": 37,
     "metadata": {},
     "output_type": "execute_result"
    }
   ],
   "source": [
    "election_df.columns"
   ]
  },
  {
   "cell_type": "markdown",
   "id": "0bba365b-7d46-45ea-9b8b-400fc162a82f",
   "metadata": {},
   "source": [
    "### Put the base precinct year after the precinct information column"
   ]
  },
  {
   "cell_type": "code",
   "execution_count": 38,
   "id": "7086205b-49f4-44a7-be19-9eeac924e07b",
   "metadata": {},
   "outputs": [],
   "source": [
    "base_columns = {}\n",
    "if 'CDE_COUNTY' + year not in election_df.columns:\n",
    "    base_columns = {\n",
    "        'CDE_COUNTY':'CDE_COUNTY'+year,\n",
    "        'PCTNUM':'PCTNUM'+year,\n",
    "        'PRECINCTNA':'PRECINCTNA'+year,\n",
    "    }\n",
    "election_df.rename(columns=base_columns, inplace = True)"
   ]
  },
  {
   "cell_type": "code",
   "execution_count": 39,
   "id": "3ea62760-cc32-4fcc-8475-c3ba956cb901",
   "metadata": {},
   "outputs": [],
   "source": [
    "# reorder the columns\n",
    "fixed_columns = [\n",
    "    'CDE_COUNTY'+year,\n",
    "    'PCTNUM'+year,\n",
    "    'PRECINCTNA'+year,\n",
    "    'CD',\n",
    "    'SEND',\n",
    "    'TOTPOP',\n",
    "    'NH_2MORE',\n",
    "    'NH_AMIN',\n",
    "    'NH_ASIAN',\n",
    "    'NH_BLACK',\n",
    "    'NH_NHPI',\n",
    "    'NH_OTHER',\n",
    "    'NH_WHITE',\n",
    "    'HISP',\n",
    "    'H_AMIN',\n",
    "    'H_ASIAN',\n",
    "    'H_BLACK',\n",
    "    'H_NHPI',\n",
    "    'H_OTHER',\n",
    "    'H_WHITE',\n",
    "    'H_2MORE',\n",
    "    'VAP',\n",
    "    'HVAP',\n",
    "    'WVAP',\n",
    "    'BVAP',\n",
    "    'AMINVAP',\n",
    "    'ASIANVAP',\n",
    "    'NHPIVAP',\n",
    "    'OTHERVAP',\n",
    "    '2MOREVAP']\n",
    "\n",
    "election_columns = [col for col in election_df.columns if col not in fixed_columns]\n",
    "final_col = fixed_columns + election_columns\n",
    "election_df = election_df[final_col]"
   ]
  },
  {
   "cell_type": "code",
   "execution_count": 40,
   "id": "e4d6dfee-4483-4e95-bddc-26f7498f6747",
   "metadata": {},
   "outputs": [
    {
     "data": {
      "text/plain": [
       "['CDE_COUNTY20',\n",
       " 'PCTNUM20',\n",
       " 'PRECINCTNA20',\n",
       " 'CD',\n",
       " 'SEND',\n",
       " 'TOTPOP',\n",
       " 'NH_2MORE',\n",
       " 'NH_AMIN',\n",
       " 'NH_ASIAN',\n",
       " 'NH_BLACK',\n",
       " 'NH_NHPI',\n",
       " 'NH_OTHER',\n",
       " 'NH_WHITE',\n",
       " 'HISP',\n",
       " 'H_AMIN',\n",
       " 'H_ASIAN',\n",
       " 'H_BLACK',\n",
       " 'H_NHPI',\n",
       " 'H_OTHER',\n",
       " 'H_WHITE',\n",
       " 'H_2MORE',\n",
       " 'VAP',\n",
       " 'HVAP',\n",
       " 'WVAP',\n",
       " 'BVAP',\n",
       " 'AMINVAP',\n",
       " 'ASIANVAP',\n",
       " 'NHPIVAP',\n",
       " 'OTHERVAP',\n",
       " '2MOREVAP',\n",
       " 'ATG18D',\n",
       " 'ATG18O',\n",
       " 'ATG18R',\n",
       " 'GOV18D',\n",
       " 'GOV18O',\n",
       " 'GOV18R',\n",
       " 'MNI18D',\n",
       " 'MNI18O',\n",
       " 'MNI18R',\n",
       " 'PRE16D',\n",
       " 'PRE16O',\n",
       " 'PRE16R',\n",
       " 'PRE20D',\n",
       " 'PRE20O',\n",
       " 'PRE20R',\n",
       " 'SOS18D',\n",
       " 'SOS18O',\n",
       " 'SOS18R',\n",
       " 'SPI18D',\n",
       " 'SPI18O',\n",
       " 'SPI18R',\n",
       " 'TRE18D',\n",
       " 'TRE18O',\n",
       " 'TRE18R',\n",
       " 'USS16D',\n",
       " 'USS16O',\n",
       " 'USS16R',\n",
       " 'USS18D',\n",
       " 'USS18O',\n",
       " 'USS18R',\n",
       " 'USS20D',\n",
       " 'USS20R',\n",
       " 'geometry']"
      ]
     },
     "execution_count": 40,
     "metadata": {},
     "output_type": "execute_result"
    }
   ],
   "source": [
    "list(election_df.columns)"
   ]
  },
  {
   "cell_type": "code",
   "execution_count": 42,
   "id": "1b198042-dbd4-408e-bfd4-4494f2b49245",
   "metadata": {
    "tags": []
   },
   "outputs": [],
   "source": [
    "# store the result in directory \"az\"\n",
    "os.makedirs(\"./{}\".format(state_ab))\n",
    "election_df.to_file(\"./{}/{}.shp\".format(state_ab, state_ab))\n",
    "election_df.to_file('./{}/{}.geojson'.format(state_ab, state_ab), driver='GeoJSON')\n",
    "\n",
    "# Only do once to build json and read from file when generating ensembles\n",
    "graph = Graph.from_file(\"./{}/{}.shp\".format(state_ab, state_ab), ignore_errors=True)\n",
    "graph.to_json(\"./{}/{}.json\".format(state_ab, state_ab))"
   ]
  },
  {
   "cell_type": "code",
   "execution_count": null,
   "id": "a8ba4789-8282-428a-90d4-e59ee50f4064",
   "metadata": {},
   "outputs": [],
   "source": []
  }
 ],
 "metadata": {
  "kernelspec": {
   "display_name": "maup",
   "language": "python",
   "name": "maup"
  },
  "language_info": {
   "codemirror_mode": {
    "name": "ipython",
    "version": 3
   },
   "file_extension": ".py",
   "mimetype": "text/x-python",
   "name": "python",
   "nbconvert_exporter": "python",
   "pygments_lexer": "ipython3",
   "version": "3.9.12"
  }
 },
 "nbformat": 4,
 "nbformat_minor": 5
}
